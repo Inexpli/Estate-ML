{
 "cells": [
  {
   "cell_type": "code",
   "execution_count": 31,
   "id": "5d750173",
   "metadata": {},
   "outputs": [],
   "source": [
    "import pandas as pd\n",
    "from sklearn.tree import DecisionTreeClassifier\n",
    "from sklearn.model_selection import train_test_split\n",
    "from sklearn.metrics import accuracy_score\n",
    "import joblib\n",
    "df = pd.read_csv('estates.csv')"
   ]
  },
  {
   "cell_type": "code",
   "execution_count": 30,
   "id": "5c849bbc",
   "metadata": {},
   "outputs": [
    {
     "data": {
      "text/plain": [
       "0.2734375"
      ]
     },
     "execution_count": 30,
     "metadata": {},
     "output_type": "execute_result"
    }
   ],
   "source": [
    "x = df.drop(columns=['price','pricePerMeter','floor'])\n",
    "y = df['price']\n",
    "x_train, x_test, y_train, y_test = train_test_split(x,y, test_size=0.2)\n",
    "model = DecisionTreeClassifier()\n",
    "model.fit(x_train, y_train)\n",
    "predictions = model.predict(x_test)\n",
    "predictions\n",
    "score = accuracy_score(y_test, predictions)\n",
    "score"
   ]
  },
  {
   "cell_type": "code",
   "execution_count": 36,
   "id": "18ff2d5c",
   "metadata": {},
   "outputs": [
    {
     "name": "stderr",
     "output_type": "stream",
     "text": [
      "C:\\Users\\JJ\\anaconda3\\lib\\site-packages\\sklearn\\base.py:450: UserWarning: X does not have valid feature names, but DecisionTreeClassifier was fitted with feature names\n",
      "  warnings.warn(\n"
     ]
    },
    {
     "data": {
      "text/plain": [
       "array([1020000], dtype=int64)"
      ]
     },
     "execution_count": 36,
     "metadata": {},
     "output_type": "execute_result"
    }
   ],
   "source": [
    "x = df.drop(columns=['price','pricePerMeter','floor'])\n",
    "y = df['price']\n",
    "model = DecisionTreeClassifier()\n",
    "model.fit(x, y)\n",
    "predictions = model.predict([ [123,4] ])\n",
    "predictions"
   ]
  },
  {
   "cell_type": "code",
   "execution_count": 39,
   "id": "43c947c7",
   "metadata": {},
   "outputs": [
    {
     "name": "stdout",
     "output_type": "stream",
     "text": [
      "Mean Squared Error: 17271047832.08593\n",
      "R-squared: 0.47070712700159834\n"
     ]
    }
   ],
   "source": [
    "import pandas as pd\n",
    "import joblib\n",
    "from sklearn.linear_model import LinearRegression\n",
    "from sklearn.model_selection import train_test_split\n",
    "from sklearn.metrics import mean_squared_error, r2_score\n",
    "\n",
    "# Wczytanie danych z pliku CSV\n",
    "data = pd.read_csv('estates.csv')\n",
    "\n",
    "# Podział danych na zmienne niezależne (metraż i ilość pokoi) oraz zmienną zależną (cena)\n",
    "X = data[['area', 'rooms']]\n",
    "y = data['price']\n",
    "\n",
    "# Podział danych na zbiór treningowy i testowy\n",
    "X_train, X_test, y_train, y_test = train_test_split(X, y, test_size=0.2, random_state=42)\n",
    "\n",
    "# Inicjalizacja modelu regresji liniowej\n",
    "model = LinearRegression()\n",
    "\n",
    "# Trenowanie modelu na danych treningowych\n",
    "model.fit(X_train, y_train)\n",
    "\n",
    "# Przewidywanie cen na danych testowych\n",
    "y_pred = model.predict(X_test)\n",
    "\n",
    "# Obliczenie metryk oceny jakości modelu\n",
    "mse = mean_squared_error(y_test, y_pred)\n",
    "r2 = r2_score(y_test, y_pred)\n",
    "\n",
    "print(f\"Mean Squared Error: {mse}\")\n",
    "print(f\"R-squared: {r2}\")"
   ]
  },
  {
   "cell_type": "code",
   "execution_count": 40,
   "id": "b497a288",
   "metadata": {},
   "outputs": [
    {
     "name": "stdout",
     "output_type": "stream",
     "text": [
      "Przewidywana cena dla mieszkania o metrażu 50 metrów i 4 pokojach: 519464.37 zł\n"
     ]
    },
    {
     "name": "stderr",
     "output_type": "stream",
     "text": [
      "C:\\Users\\JJ\\anaconda3\\lib\\site-packages\\sklearn\\base.py:450: UserWarning: X does not have valid feature names, but LinearRegression was fitted with feature names\n",
      "  warnings.warn(\n"
     ]
    }
   ],
   "source": [
    "metraz = 50\n",
    "pokoje = 4\n",
    "predicted_price = model.predict([[metraz, pokoje]])\n",
    "print(f\"Przewidywana cena dla mieszkania o metrażu {metraz} metrów i {pokoje} pokojach: {predicted_price[0]:.2f} zł\")"
   ]
  },
  {
   "cell_type": "code",
   "execution_count": 41,
   "id": "8449a221",
   "metadata": {},
   "outputs": [
    {
     "data": {
      "text/plain": [
       "['estate-advisor.joblib']"
      ]
     },
     "execution_count": 41,
     "metadata": {},
     "output_type": "execute_result"
    }
   ],
   "source": [
    "joblib.dump(model, 'estate-advisor.joblib')"
   ]
  }
 ],
 "metadata": {
  "kernelspec": {
   "display_name": "Python 3 (ipykernel)",
   "language": "python",
   "name": "python3"
  },
  "language_info": {
   "codemirror_mode": {
    "name": "ipython",
    "version": 3
   },
   "file_extension": ".py",
   "mimetype": "text/x-python",
   "name": "python",
   "nbconvert_exporter": "python",
   "pygments_lexer": "ipython3",
   "version": "3.9.13"
  }
 },
 "nbformat": 4,
 "nbformat_minor": 5
}
